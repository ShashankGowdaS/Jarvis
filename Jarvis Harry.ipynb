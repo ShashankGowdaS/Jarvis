{
 "cells": [
  {
   "cell_type": "code",
   "execution_count": 51,
   "metadata": {},
   "outputs": [],
   "source": [
    "import pyttsx3\n",
    "import datetime\n",
    "import speech_recognition as sr\n",
    "import wikipedia\n",
    "import webbrowser\n",
    "import os\n",
    "import smtplib"
   ]
  },
  {
   "cell_type": "code",
   "execution_count": 27,
   "metadata": {},
   "outputs": [
    {
     "data": {
      "text/plain": [
       "'#changing browser\\nch_path=webbrowser.get(\"C:/Program Files/Google/Chrome/Application/chrome.exe\")\\nch=webbrowser.get(ch_path)\\nprint(\\'success\\')\\n#ch.open(\\'youtube.com\\')\\n\\n\\n#registering a browser\\nwebbrowser.register(\\'chrome\\',None,ch)\\n\\n\\n#ms edge\\nedge_path=webbrowser.get()\\ned=webbrowser.get(edge_path)\\nwebbrowser.register(\\'edge\\',None,ed)\\ned.open(\\'youtube.com\\')\\nwebbrowser.get(\\'edge\\').open(\\'youtube.com\\')'"
      ]
     },
     "execution_count": 27,
     "metadata": {},
     "output_type": "execute_result"
    }
   ],
   "source": [
    "\"\"\"#changing browser\n",
    "ch_path=webbrowser.get(\"C:/Program Files/Google/Chrome/Application/chrome.exe\")\n",
    "ch=webbrowser.get(ch_path)\n",
    "print('success')\n",
    "#ch.open('youtube.com')\n",
    "\n",
    "\n",
    "#registering a browser\n",
    "webbrowser.register('chrome',None,ch)\n",
    "\n",
    "\n",
    "#ms edge\n",
    "edge_path=webbrowser.get()\n",
    "ed=webbrowser.get(edge_path)\n",
    "webbrowser.register('edge',None,ed)\n",
    "ed.open('youtube.com')\n",
    "webbrowser.get('edge').open('youtube.com')\"\"\""
   ]
  },
  {
   "cell_type": "code",
   "execution_count": 2,
   "metadata": {},
   "outputs": [
    {
     "name": "stdout",
     "output_type": "stream",
     "text": [
      "Collecting wikipedia\n",
      "  Using cached wikipedia-1.4.0.tar.gz (27 kB)\n",
      "Requirement already satisfied: beautifulsoup4 in c:\\users\\shashank.s\\anaconda3\\lib\\site-packages (from wikipedia) (4.9.3)\n",
      "Requirement already satisfied: requests<3.0.0,>=2.0.0 in c:\\users\\shashank.s\\anaconda3\\lib\\site-packages (from wikipedia) (2.24.0)\n",
      "Requirement already satisfied: soupsieve>1.2; python_version >= \"3.0\" in c:\\users\\shashank.s\\anaconda3\\lib\\site-packages (from beautifulsoup4->wikipedia) (2.0.1)\n",
      "Requirement already satisfied: urllib3!=1.25.0,!=1.25.1,<1.26,>=1.21.1 in c:\\users\\shashank.s\\anaconda3\\lib\\site-packages (from requests<3.0.0,>=2.0.0->wikipedia) (1.25.11)\n",
      "Requirement already satisfied: idna<3,>=2.5 in c:\\users\\shashank.s\\anaconda3\\lib\\site-packages (from requests<3.0.0,>=2.0.0->wikipedia) (2.10)\n",
      "Requirement already satisfied: chardet<4,>=3.0.2 in c:\\users\\shashank.s\\anaconda3\\lib\\site-packages (from requests<3.0.0,>=2.0.0->wikipedia) (3.0.4)\n",
      "Requirement already satisfied: certifi>=2017.4.17 in c:\\users\\shashank.s\\anaconda3\\lib\\site-packages (from requests<3.0.0,>=2.0.0->wikipedia) (2020.6.20)\n",
      "Building wheels for collected packages: wikipedia\n",
      "  Building wheel for wikipedia (setup.py): started\n",
      "  Building wheel for wikipedia (setup.py): finished with status 'done'\n",
      "  Created wheel for wikipedia: filename=wikipedia-1.4.0-py3-none-any.whl size=11689 sha256=4470997ac492cf1f6d2d66ed69f230a2a40e44dc682edb0625aa47bb161fc2c8\n",
      "  Stored in directory: c:\\users\\shashank.s\\appdata\\local\\pip\\cache\\wheels\\07\\93\\05\\72c05349177dca2e0ba31a33ba4f7907606f7ddef303517c6a\n",
      "Successfully built wikipedia\n",
      "Installing collected packages: wikipedia\n",
      "Successfully installed wikipedia-1.4.0\n"
     ]
    }
   ],
   "source": [
    "!pip install wikipedia"
   ]
  },
  {
   "cell_type": "code",
   "execution_count": 2,
   "metadata": {},
   "outputs": [
    {
     "name": "stdout",
     "output_type": "stream",
     "text": [
      "Requirement already satisfied: pyttsx3 in c:\\users\\shashank.s\\anaconda3\\lib\\site-packages (2.90)\n",
      "Requirement already satisfied: pywin32; platform_system == \"Windows\" in c:\\users\\shashank.s\\anaconda3\\lib\\site-packages (from pyttsx3) (227)\n",
      "Requirement already satisfied: pypiwin32; platform_system == \"Windows\" in c:\\users\\shashank.s\\anaconda3\\lib\\site-packages (from pyttsx3) (223)\n",
      "Requirement already satisfied: comtypes; platform_system == \"Windows\" in c:\\users\\shashank.s\\anaconda3\\lib\\site-packages (from pyttsx3) (1.1.7)\n"
     ]
    }
   ],
   "source": [
    "!pip install pyttsx3"
   ]
  },
  {
   "cell_type": "code",
   "execution_count": 52,
   "metadata": {},
   "outputs": [],
   "source": [
    "#Microsoft voices : sapi5\n",
    "engine = pyttsx3.init('sapi5')\n",
    "voices= engine.getProperty('voices')\n",
    "\n",
    "#selecting male or female voices: id[0]=David ,id[11]=Zira\n",
    "#print(voices[0].id)\n",
    "engine.setProperty('voice',voices[0].id)"
   ]
  },
  {
   "cell_type": "code",
   "execution_count": 68,
   "metadata": {},
   "outputs": [],
   "source": [
    "def speak(audio):\n",
    "    engine.say(audio)\n",
    "    engine.runAndWait()\n",
    "\n",
    "def wishMe():\n",
    "    hour= int(datetime.datetime.now().hour)\n",
    "    if hour>=0 and hour<12:\n",
    "        speak(\"Good morning\")\n",
    "    \n",
    "    elif hour>=12 and hour<18:\n",
    "        speak(\"Good Afternoon\")\n",
    "    \n",
    "    else:\n",
    "        speak(\"Good Evening!\")\n",
    "        \n",
    "    #speak(\"I am Chhittti the Robot       Speed 1 tera byte...Memory 1 zetaa byte\")    \n",
    "    speak(\"I am Jarvis..Tell me how may I help You\")    \n",
    "    \n",
    "    \n",
    "#if __name__==\"__main__\":\n",
    "    #speak(\"Jai Sri Krishna\")\n",
    "    #wishMe()"
   ]
  },
  {
   "cell_type": "code",
   "execution_count": null,
   "metadata": {},
   "outputs": [],
   "source": []
  },
  {
   "cell_type": "code",
   "execution_count": 1,
   "metadata": {},
   "outputs": [
    {
     "ename": "NameError",
     "evalue": "name 'wishMe' is not defined",
     "output_type": "error",
     "traceback": [
      "\u001b[1;31m---------------------------------------------------------------------------\u001b[0m",
      "\u001b[1;31mNameError\u001b[0m                                 Traceback (most recent call last)",
      "\u001b[1;32m<ipython-input-1-7c516473487f>\u001b[0m in \u001b[0;36m<module>\u001b[1;34m\u001b[0m\n\u001b[0;32m     33\u001b[0m \u001b[1;33m\u001b[0m\u001b[0m\n\u001b[0;32m     34\u001b[0m \u001b[1;32mif\u001b[0m \u001b[0m__name__\u001b[0m\u001b[1;33m==\u001b[0m\u001b[1;34m\"__main__\"\u001b[0m\u001b[1;33m:\u001b[0m\u001b[1;33m\u001b[0m\u001b[1;33m\u001b[0m\u001b[0m\n\u001b[1;32m---> 35\u001b[1;33m     \u001b[0mwishMe\u001b[0m\u001b[1;33m(\u001b[0m\u001b[1;33m)\u001b[0m\u001b[1;33m\u001b[0m\u001b[1;33m\u001b[0m\u001b[0m\n\u001b[0m\u001b[0;32m     36\u001b[0m \u001b[1;33m\u001b[0m\u001b[0m\n\u001b[0;32m     37\u001b[0m     \u001b[1;31m#sht=True\u001b[0m\u001b[1;33m\u001b[0m\u001b[1;33m\u001b[0m\u001b[1;33m\u001b[0m\u001b[0m\n",
      "\u001b[1;31mNameError\u001b[0m: name 'wishMe' is not defined"
     ]
    }
   ],
   "source": [
    "def takeCommand():\n",
    "    # it takes microphone input from users and returns string output\n",
    "    \n",
    "    r=sr.Recognizer()\n",
    "    \n",
    "    with sr.Microphone() as source:\n",
    "        print('Listening.........')\n",
    "        #r.pause_threshold=1\n",
    "        audio = r.listen(source)\n",
    "        \n",
    "    try:\n",
    "        print('Recognizing.....')\n",
    "        query = r.recognize_google(audio) \n",
    "        #print(f\"User said:{query}\\n\")\n",
    "        print('USER said:',query)\n",
    "\n",
    "    except Exception as e: \n",
    "        print(e)\n",
    "        print('Say that again please....')\n",
    "        return \"None\"\n",
    "\n",
    "    return query\n",
    "                  \n",
    "def sendEmail(to,content):\n",
    "    server=smtplib.SMTP('smtp.gmail.com',587)\n",
    "    server.ehlo()\n",
    "    server.starttls()\n",
    "    server.login('myemail@gmail.com','mypassword')\n",
    "    server.sendmail('myemail@gmail.com',to,contents)\n",
    "    server.close()\n",
    "    \n",
    "    \n",
    "    \n",
    "if __name__==\"__main__\":\n",
    "    wishMe()\n",
    "    \n",
    "    #sht=True\n",
    "    while True:\n",
    "    #if 1:\n",
    "        query=takeCommand().lower()\n",
    "    \n",
    "    #logic for executing tasks on query\n",
    "    \n",
    "        if 'wikipedia' in query:\n",
    "            speak('Searching wikipedia...')\n",
    "            print('it takes a little while')\n",
    "            query=query.replace('wikipedia','')\n",
    "            results=wikipedia.summary(query,sentences=2)\n",
    "            speak(\"According to wikipedia\")\n",
    "            print(results)\n",
    "            speak(results)\n",
    "\n",
    "\n",
    "\n",
    "        elif   'open youtube' in query:\n",
    "            webbrowser.open('youtube.com')\n",
    "\n",
    "\n",
    "        elif 'open google' in query:\n",
    "            webbrowser.open('google.com')\n",
    "\n",
    "\n",
    "\n",
    "        elif 'play music' in query:\n",
    "            music_dir=\"D:/MultiMedia/Music\"\n",
    "            songs=os.listdir(music_dir)\n",
    "            #print(songs)\n",
    "            os.startfile(os.path.join(music_dir,songs[15]))\n",
    "\n",
    "\n",
    "\n",
    "        elif 'the time' in query:\n",
    "            strTime=datetime.datetime.now().strftime(\"%H:%M:%S\")\n",
    "            speak(f\"Sir, the time is {strTime}\")\n",
    "\n",
    "\n",
    "        elif 'open code' in query:\n",
    "            codePath=\"C:/Users/Shashank.S/AppData/Local/Programs/Microsoft VS Code/Code.exe\"\n",
    "            os.startfile(codePath)\n",
    "\n",
    "\n",
    "        elif 'email to captain' in query:\n",
    "            try:\n",
    "                speak('What should I say?')\n",
    "                content=takeCommand()\n",
    "                to='myCaptain@gmail.com'\n",
    "                sendEmail(to,content)\n",
    "                speak('Email has been sent')\n",
    "\n",
    "            except Exception as e:    \n",
    "                print(e)\n",
    "                speak('Sorry buddy, I couldnt send this email')\n",
    "                \n",
    "                \n",
    "        elif 'shutdown' or 'shut down' in query:\n",
    "            speak('Shutting down')\n",
    "            print('Shutting down')\n",
    "            break;\n",
    "            #sht=False\n",
    "        "
   ]
  },
  {
   "cell_type": "code",
   "execution_count": null,
   "metadata": {},
   "outputs": [],
   "source": []
  },
  {
   "cell_type": "code",
   "execution_count": null,
   "metadata": {},
   "outputs": [],
   "source": []
  }
 ],
 "metadata": {
  "kernelspec": {
   "display_name": "Python 3",
   "language": "python",
   "name": "python3"
  },
  "language_info": {
   "codemirror_mode": {
    "name": "ipython",
    "version": 3
   },
   "file_extension": ".py",
   "mimetype": "text/x-python",
   "name": "python",
   "nbconvert_exporter": "python",
   "pygments_lexer": "ipython3",
   "version": "3.8.5"
  }
 },
 "nbformat": 4,
 "nbformat_minor": 4
}
